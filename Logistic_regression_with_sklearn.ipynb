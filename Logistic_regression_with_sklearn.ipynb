{
  "nbformat": 4,
  "nbformat_minor": 0,
  "metadata": {
    "colab": {
      "provenance": [],
      "collapsed_sections": [
        "49t1I5xh61uz",
        "03pvdw9LPmlf",
        "HG4joobpVdS7",
        "0-A9Fslq67hG",
        "OiOLzmr6T6Y3",
        "x3gSKlYg7Chd"
      ],
      "include_colab_link": true
    },
    "kernelspec": {
      "name": "python3",
      "display_name": "Python 3"
    },
    "language_info": {
      "name": "python"
    }
  },
  "cells": [
    {
      "cell_type": "markdown",
      "metadata": {
        "id": "view-in-github",
        "colab_type": "text"
      },
      "source": [
        "<a href=\"https://colab.research.google.com/github/Lital-Ben-Baruch/ScikitLearningSeries/blob/main/Logistic_regression_with_sklearn.ipynb\" target=\"_parent\"><img src=\"https://colab.research.google.com/assets/colab-badge.svg\" alt=\"Open In Colab\"/></a>"
      ]
    },
    {
      "cell_type": "markdown",
      "source": [
        "# Logistic regression with Scikit-Learn: A Step-by-Step Guide\n",
        "This notebook provides a comprehensive walkthrough on implementing Logistic Regression using the Scikit-Learn library. It's designed to offer hands-on experience for beginners and intermediates alike. The dataset used in this exercise can be accessed from the my GitHub repository. By the end of this tutorial, you will have a clear understanding of how to set up, train, and evaluate a Linear Regression model using Python and Scikit-Learn on Google Colab.\n",
        "\n",
        "\n",
        "## Main steps outlined in this notebook:\n",
        "### **First-Order Logistic Regression Model**\n",
        "1. **Loading and visualizing the dataset**.\n",
        "2. **Partitioning the dataset** into training and testing subsets.\n",
        "3. **visualizing the datasets**.\n",
        "4. **Constructing a Logistic Regression model** using sklearn.\n",
        "5. **Sketching the decision boundary**.\n",
        "6. **Assessing model performance** on both the training and testing sets using metrics like recall, precision, accuracy, and the F1 score. (Note: These metrics can indicate potential overfitting or underfitting).\n",
        "\n",
        "### **second-Order Logistic Regression Model**\n",
        "1. **Creating a Second-Order Data**.\n",
        "2. **Partitioning the dataset** into training and testing subsets.\n",
        "3. **Constructing a Logistic Regression model** using sklearn.\n",
        "4. **Assessing model performance**\n",
        "\n",
        "\n",
        "### **conclusion**"
      ],
      "metadata": {
        "id": "u3S7SQViIdpU"
      }
    },
    {
      "cell_type": "markdown",
      "source": [
        "# First-Order Logistic Regression Model"
      ],
      "metadata": {
        "id": "tb0ODz2HINFN"
      }
    },
    {
      "cell_type": "markdown",
      "source": [
        "## Step1. Loading and visualizing the dataset"
      ],
      "metadata": {
        "id": "49t1I5xh61uz"
      }
    },
    {
      "cell_type": "markdown",
      "source": [
        "### Import the necessary libraries"
      ],
      "metadata": {
        "id": "03pvdw9LPmlf"
      }
    },
    {
      "cell_type": "code",
      "source": [
        "import pandas as pd\n",
        "import numpy as np\n",
        "import matplotlib.pyplot as plt\n",
        "import seaborn as sns\n",
        "from sklearn import metrics\n",
        "from sklearn.metrics import precision_score,recall_score,f1_score"
      ],
      "metadata": {
        "id": "Q_XJjs9ADDXh"
      },
      "execution_count": 2,
      "outputs": []
    },
    {
      "cell_type": "markdown",
      "source": [
        "### Loading The Dataset"
      ],
      "metadata": {
        "id": "sMaRt-VH64cH"
      }
    },
    {
      "cell_type": "markdown",
      "source": [
        "#### Import the dataset from drive"
      ],
      "metadata": {
        "id": "5ADfme2WP6Mr"
      }
    },
    {
      "cell_type": "code",
      "source": [
        "from google.colab import drive\n",
        "drive.mount('/content/drive')"
      ],
      "metadata": {
        "colab": {
          "base_uri": "https://localhost:8080/"
        },
        "id": "t1Nx_KU-P5y1",
        "outputId": "391cfa1e-34cf-4acb-ed5d-e70c082ac016"
      },
      "execution_count": 3,
      "outputs": [
        {
          "output_type": "stream",
          "name": "stdout",
          "text": [
            "Mounted at /content/drive\n"
          ]
        }
      ]
    },
    {
      "cell_type": "markdown",
      "source": [
        "#### Assign the dataset to a variable called df_tips\n"
      ],
      "metadata": {
        "id": "lVzgIOyCQEg_"
      }
    },
    {
      "cell_type": "code",
      "source": [
        "path = '/content/drive/My Drive/Summaries _ML_AI_CV/data_sets/Logistic_regression/ex2data1.txt'\n",
        "df = pd.read_csv(path, names=['x1', 'x2', 'label'])\n",
        "df.head()"
      ],
      "metadata": {
        "colab": {
          "base_uri": "https://localhost:8080/",
          "height": 206
        },
        "id": "e3SHcvKhQL-m",
        "outputId": "eb930ae6-b278-47f5-863f-49881437765f"
      },
      "execution_count": 4,
      "outputs": [
        {
          "output_type": "execute_result",
          "data": {
            "text/plain": [
              "          x1         x2  label\n",
              "0  34.623660  78.024693      0\n",
              "1  30.286711  43.894998      0\n",
              "2  35.847409  72.902198      0\n",
              "3  60.182599  86.308552      1\n",
              "4  79.032736  75.344376      1"
            ],
            "text/html": [
              "\n",
              "  <div id=\"df-19e0a166-056a-410a-8f85-59ba2c6e75db\" class=\"colab-df-container\">\n",
              "    <div>\n",
              "<style scoped>\n",
              "    .dataframe tbody tr th:only-of-type {\n",
              "        vertical-align: middle;\n",
              "    }\n",
              "\n",
              "    .dataframe tbody tr th {\n",
              "        vertical-align: top;\n",
              "    }\n",
              "\n",
              "    .dataframe thead th {\n",
              "        text-align: right;\n",
              "    }\n",
              "</style>\n",
              "<table border=\"1\" class=\"dataframe\">\n",
              "  <thead>\n",
              "    <tr style=\"text-align: right;\">\n",
              "      <th></th>\n",
              "      <th>x1</th>\n",
              "      <th>x2</th>\n",
              "      <th>label</th>\n",
              "    </tr>\n",
              "  </thead>\n",
              "  <tbody>\n",
              "    <tr>\n",
              "      <th>0</th>\n",
              "      <td>34.623660</td>\n",
              "      <td>78.024693</td>\n",
              "      <td>0</td>\n",
              "    </tr>\n",
              "    <tr>\n",
              "      <th>1</th>\n",
              "      <td>30.286711</td>\n",
              "      <td>43.894998</td>\n",
              "      <td>0</td>\n",
              "    </tr>\n",
              "    <tr>\n",
              "      <th>2</th>\n",
              "      <td>35.847409</td>\n",
              "      <td>72.902198</td>\n",
              "      <td>0</td>\n",
              "    </tr>\n",
              "    <tr>\n",
              "      <th>3</th>\n",
              "      <td>60.182599</td>\n",
              "      <td>86.308552</td>\n",
              "      <td>1</td>\n",
              "    </tr>\n",
              "    <tr>\n",
              "      <th>4</th>\n",
              "      <td>79.032736</td>\n",
              "      <td>75.344376</td>\n",
              "      <td>1</td>\n",
              "    </tr>\n",
              "  </tbody>\n",
              "</table>\n",
              "</div>\n",
              "    <div class=\"colab-df-buttons\">\n",
              "\n",
              "  <div class=\"colab-df-container\">\n",
              "    <button class=\"colab-df-convert\" onclick=\"convertToInteractive('df-19e0a166-056a-410a-8f85-59ba2c6e75db')\"\n",
              "            title=\"Convert this dataframe to an interactive table.\"\n",
              "            style=\"display:none;\">\n",
              "\n",
              "  <svg xmlns=\"http://www.w3.org/2000/svg\" height=\"24px\" viewBox=\"0 -960 960 960\">\n",
              "    <path d=\"M120-120v-720h720v720H120Zm60-500h600v-160H180v160Zm220 220h160v-160H400v160Zm0 220h160v-160H400v160ZM180-400h160v-160H180v160Zm440 0h160v-160H620v160ZM180-180h160v-160H180v160Zm440 0h160v-160H620v160Z\"/>\n",
              "  </svg>\n",
              "    </button>\n",
              "\n",
              "  <style>\n",
              "    .colab-df-container {\n",
              "      display:flex;\n",
              "      gap: 12px;\n",
              "    }\n",
              "\n",
              "    .colab-df-convert {\n",
              "      background-color: #E8F0FE;\n",
              "      border: none;\n",
              "      border-radius: 50%;\n",
              "      cursor: pointer;\n",
              "      display: none;\n",
              "      fill: #1967D2;\n",
              "      height: 32px;\n",
              "      padding: 0 0 0 0;\n",
              "      width: 32px;\n",
              "    }\n",
              "\n",
              "    .colab-df-convert:hover {\n",
              "      background-color: #E2EBFA;\n",
              "      box-shadow: 0px 1px 2px rgba(60, 64, 67, 0.3), 0px 1px 3px 1px rgba(60, 64, 67, 0.15);\n",
              "      fill: #174EA6;\n",
              "    }\n",
              "\n",
              "    .colab-df-buttons div {\n",
              "      margin-bottom: 4px;\n",
              "    }\n",
              "\n",
              "    [theme=dark] .colab-df-convert {\n",
              "      background-color: #3B4455;\n",
              "      fill: #D2E3FC;\n",
              "    }\n",
              "\n",
              "    [theme=dark] .colab-df-convert:hover {\n",
              "      background-color: #434B5C;\n",
              "      box-shadow: 0px 1px 3px 1px rgba(0, 0, 0, 0.15);\n",
              "      filter: drop-shadow(0px 1px 2px rgba(0, 0, 0, 0.3));\n",
              "      fill: #FFFFFF;\n",
              "    }\n",
              "  </style>\n",
              "\n",
              "    <script>\n",
              "      const buttonEl =\n",
              "        document.querySelector('#df-19e0a166-056a-410a-8f85-59ba2c6e75db button.colab-df-convert');\n",
              "      buttonEl.style.display =\n",
              "        google.colab.kernel.accessAllowed ? 'block' : 'none';\n",
              "\n",
              "      async function convertToInteractive(key) {\n",
              "        const element = document.querySelector('#df-19e0a166-056a-410a-8f85-59ba2c6e75db');\n",
              "        const dataTable =\n",
              "          await google.colab.kernel.invokeFunction('convertToInteractive',\n",
              "                                                    [key], {});\n",
              "        if (!dataTable) return;\n",
              "\n",
              "        const docLinkHtml = 'Like what you see? Visit the ' +\n",
              "          '<a target=\"_blank\" href=https://colab.research.google.com/notebooks/data_table.ipynb>data table notebook</a>'\n",
              "          + ' to learn more about interactive tables.';\n",
              "        element.innerHTML = '';\n",
              "        dataTable['output_type'] = 'display_data';\n",
              "        await google.colab.output.renderOutput(dataTable, element);\n",
              "        const docLink = document.createElement('div');\n",
              "        docLink.innerHTML = docLinkHtml;\n",
              "        element.appendChild(docLink);\n",
              "      }\n",
              "    </script>\n",
              "  </div>\n",
              "\n",
              "\n",
              "<div id=\"df-712ec5c3-acad-4139-b7db-92c1e298e101\">\n",
              "  <button class=\"colab-df-quickchart\" onclick=\"quickchart('df-712ec5c3-acad-4139-b7db-92c1e298e101')\"\n",
              "            title=\"Suggest charts.\"\n",
              "            style=\"display:none;\">\n",
              "\n",
              "<svg xmlns=\"http://www.w3.org/2000/svg\" height=\"24px\"viewBox=\"0 0 24 24\"\n",
              "     width=\"24px\">\n",
              "    <g>\n",
              "        <path d=\"M19 3H5c-1.1 0-2 .9-2 2v14c0 1.1.9 2 2 2h14c1.1 0 2-.9 2-2V5c0-1.1-.9-2-2-2zM9 17H7v-7h2v7zm4 0h-2V7h2v10zm4 0h-2v-4h2v4z\"/>\n",
              "    </g>\n",
              "</svg>\n",
              "  </button>\n",
              "\n",
              "<style>\n",
              "  .colab-df-quickchart {\n",
              "      --bg-color: #E8F0FE;\n",
              "      --fill-color: #1967D2;\n",
              "      --hover-bg-color: #E2EBFA;\n",
              "      --hover-fill-color: #174EA6;\n",
              "      --disabled-fill-color: #AAA;\n",
              "      --disabled-bg-color: #DDD;\n",
              "  }\n",
              "\n",
              "  [theme=dark] .colab-df-quickchart {\n",
              "      --bg-color: #3B4455;\n",
              "      --fill-color: #D2E3FC;\n",
              "      --hover-bg-color: #434B5C;\n",
              "      --hover-fill-color: #FFFFFF;\n",
              "      --disabled-bg-color: #3B4455;\n",
              "      --disabled-fill-color: #666;\n",
              "  }\n",
              "\n",
              "  .colab-df-quickchart {\n",
              "    background-color: var(--bg-color);\n",
              "    border: none;\n",
              "    border-radius: 50%;\n",
              "    cursor: pointer;\n",
              "    display: none;\n",
              "    fill: var(--fill-color);\n",
              "    height: 32px;\n",
              "    padding: 0;\n",
              "    width: 32px;\n",
              "  }\n",
              "\n",
              "  .colab-df-quickchart:hover {\n",
              "    background-color: var(--hover-bg-color);\n",
              "    box-shadow: 0 1px 2px rgba(60, 64, 67, 0.3), 0 1px 3px 1px rgba(60, 64, 67, 0.15);\n",
              "    fill: var(--button-hover-fill-color);\n",
              "  }\n",
              "\n",
              "  .colab-df-quickchart-complete:disabled,\n",
              "  .colab-df-quickchart-complete:disabled:hover {\n",
              "    background-color: var(--disabled-bg-color);\n",
              "    fill: var(--disabled-fill-color);\n",
              "    box-shadow: none;\n",
              "  }\n",
              "\n",
              "  .colab-df-spinner {\n",
              "    border: 2px solid var(--fill-color);\n",
              "    border-color: transparent;\n",
              "    border-bottom-color: var(--fill-color);\n",
              "    animation:\n",
              "      spin 1s steps(1) infinite;\n",
              "  }\n",
              "\n",
              "  @keyframes spin {\n",
              "    0% {\n",
              "      border-color: transparent;\n",
              "      border-bottom-color: var(--fill-color);\n",
              "      border-left-color: var(--fill-color);\n",
              "    }\n",
              "    20% {\n",
              "      border-color: transparent;\n",
              "      border-left-color: var(--fill-color);\n",
              "      border-top-color: var(--fill-color);\n",
              "    }\n",
              "    30% {\n",
              "      border-color: transparent;\n",
              "      border-left-color: var(--fill-color);\n",
              "      border-top-color: var(--fill-color);\n",
              "      border-right-color: var(--fill-color);\n",
              "    }\n",
              "    40% {\n",
              "      border-color: transparent;\n",
              "      border-right-color: var(--fill-color);\n",
              "      border-top-color: var(--fill-color);\n",
              "    }\n",
              "    60% {\n",
              "      border-color: transparent;\n",
              "      border-right-color: var(--fill-color);\n",
              "    }\n",
              "    80% {\n",
              "      border-color: transparent;\n",
              "      border-right-color: var(--fill-color);\n",
              "      border-bottom-color: var(--fill-color);\n",
              "    }\n",
              "    90% {\n",
              "      border-color: transparent;\n",
              "      border-bottom-color: var(--fill-color);\n",
              "    }\n",
              "  }\n",
              "</style>\n",
              "\n",
              "  <script>\n",
              "    async function quickchart(key) {\n",
              "      const quickchartButtonEl =\n",
              "        document.querySelector('#' + key + ' button');\n",
              "      quickchartButtonEl.disabled = true;  // To prevent multiple clicks.\n",
              "      quickchartButtonEl.classList.add('colab-df-spinner');\n",
              "      try {\n",
              "        const charts = await google.colab.kernel.invokeFunction(\n",
              "            'suggestCharts', [key], {});\n",
              "      } catch (error) {\n",
              "        console.error('Error during call to suggestCharts:', error);\n",
              "      }\n",
              "      quickchartButtonEl.classList.remove('colab-df-spinner');\n",
              "      quickchartButtonEl.classList.add('colab-df-quickchart-complete');\n",
              "    }\n",
              "    (() => {\n",
              "      let quickchartButtonEl =\n",
              "        document.querySelector('#df-712ec5c3-acad-4139-b7db-92c1e298e101 button');\n",
              "      quickchartButtonEl.style.display =\n",
              "        google.colab.kernel.accessAllowed ? 'block' : 'none';\n",
              "    })();\n",
              "  </script>\n",
              "</div>\n",
              "    </div>\n",
              "  </div>\n"
            ]
          },
          "metadata": {},
          "execution_count": 4
        }
      ]
    },
    {
      "cell_type": "code",
      "source": [
        "# ***** upload from local files ******\n",
        "# path = '/content/ex2data1.txt'\n",
        "# # We include column names in the CSV file since they are currently absent.\n",
        "# df = pd.read_csv(path,names= ['x1','x2','label'])\n",
        "\n",
        "# df.head()"
      ],
      "metadata": {
        "id": "HsWmmVEpDFZO"
      },
      "execution_count": 5,
      "outputs": []
    },
    {
      "cell_type": "markdown",
      "source": [
        "Our objective is to construct a model that takes 'x1' and 'x2' as inputs and predicts the corresponding label 'y'.\n",
        "\n",
        "\n",
        "```\n",
        "X1 -->|           |\n",
        "      |    MODEL  | --> y\n",
        "X2 -->|           |\n",
        "\n",
        "```\n",
        "\n"
      ],
      "metadata": {
        "id": "Efmm8ksLjy_E"
      }
    },
    {
      "cell_type": "markdown",
      "source": [
        "First, let's examine the number of observations in the dataset and assess its balance. Our objective is to ensure that X1 and X2 have a relatively equal number of observations."
      ],
      "metadata": {
        "id": "4k5ohDJqRYkL"
      }
    },
    {
      "cell_type": "code",
      "source": [
        "df.shape[0] # number of observations"
      ],
      "metadata": {
        "colab": {
          "base_uri": "https://localhost:8080/"
        },
        "id": "6-ULlpBcRX23",
        "outputId": "f328929d-ec0d-469b-bb42-3710caf470fe"
      },
      "execution_count": 6,
      "outputs": [
        {
          "output_type": "execute_result",
          "data": {
            "text/plain": [
              "100"
            ]
          },
          "metadata": {},
          "execution_count": 6
        }
      ]
    },
    {
      "cell_type": "markdown",
      "source": [
        "\n",
        "\n",
        "By using `df['label'].value_counts()`, we obtain the count of each unique value in the 'label' column of the DataFrame `df`. This function provides a summary of the distribution of labels in the dataset. It returns a Series object where the unique labels are the index and their respective counts are the values.\n",
        "\n",
        "In this exercise we have a binary classification problem with labels '0' and '1', calling `df['label'].value_counts()` will provide the count of occurrences for each label.\n",
        "\n"
      ],
      "metadata": {
        "id": "CqhkFBZPlnpX"
      }
    },
    {
      "cell_type": "code",
      "source": [
        "df['label'].value_counts()"
      ],
      "metadata": {
        "colab": {
          "base_uri": "https://localhost:8080/"
        },
        "id": "WdfZH13dmCmR",
        "outputId": "1f003c62-4ebf-4ee0-b27e-6d57f37501f9"
      },
      "execution_count": 7,
      "outputs": [
        {
          "output_type": "execute_result",
          "data": {
            "text/plain": [
              "1    60\n",
              "0    40\n",
              "Name: label, dtype: int64"
            ]
          },
          "metadata": {},
          "execution_count": 7
        }
      ]
    },
    {
      "cell_type": "markdown",
      "source": [
        "This indicates that there are 60 observations with label '1' and 40 observations with label '0' in the dataset. This information is useful for understanding the class distribution and determining if the dataset is balanced or imbalanced. In the case where X1 and X2 represent different classes or categories, comparing their respective counts can help identify any potential class imbalances in the dataset."
      ],
      "metadata": {
        "id": "eg80lgBOmqLa"
      }
    },
    {
      "cell_type": "markdown",
      "source": [
        "### visualizing The Dataset\n",
        "\n"
      ],
      "metadata": {
        "id": "HG4joobpVdS7"
      }
    },
    {
      "cell_type": "code",
      "source": [
        "# Plot the data\n",
        "plt.figure()\n",
        "scatter = plt.scatter(df['x1'], df['x2'], c=df['label'])\n",
        "plt.xlabel('x1')\n",
        "plt.ylabel('x2')\n",
        "plt.title('Dataset')\n",
        "# Add legend based on 'c' input\n",
        "plt.legend(*scatter.legend_elements(), title='Labels', bbox_to_anchor=(1.2, 1.0))\n",
        "plt.grid()\n",
        "plt.show()"
      ],
      "metadata": {
        "colab": {
          "base_uri": "https://localhost:8080/",
          "height": 0
        },
        "id": "_h-er2keVvOW",
        "outputId": "fe6f8448-addc-4f43-e6e1-857e462483de"
      },
      "execution_count": 8,
      "outputs": [
        {
          "output_type": "display_data",
          "data": {
            "text/plain": [
              "<Figure size 640x480 with 1 Axes>"
            ],
            "image/png": "[encoded data removed]"
          },
          "metadata": {}
        }
      ]
    },
    {
      "cell_type": "markdown",
      "source": [
        "## Step2. Partitioning the dataset into training and testing subsets"
      ],
      "metadata": {
        "id": "0-A9Fslq67hG"
      }
    },
    {
      "cell_type": "markdown",
      "source": [
        "For the train-test split, we will define a separate DataFrame for the input, called X, and another separate DataFrame for the output, called y.\n",
        "\n",
        "`test_size=0.25`: This parameter determines the proportion of the dataset to include in the test split. In this case, 25% of the dataset is used for testing, and the remaining 75% is used for training.\n",
        "\n",
        "`random_state=42`: This parameter is used for initializing the internal random number generator, which will decide the splitting of data into train and test indices. Setting a random_state ensures that the splits you generate are reproducible. Using an int value (like 42) will guarantee the same sequence of random numbers each time the function is called, leading to deterministic splits."
      ],
      "metadata": {
        "id": "RLn2f3irSTFA"
      }
    },
    {
      "cell_type": "code",
      "source": [
        "from sklearn.model_selection import train_test_split\n",
        "\n",
        "X = df[['x1','x2']] # input DataFrame\n",
        "y = df['label'] # output DataFrame\n",
        "\n",
        "X_train, X_test, y_train, y_test = train_test_split(X, y, test_size=0.25, random_state=42)"
      ],
      "metadata": {
        "id": "y22zpGPBDFbj"
      },
      "execution_count": 9,
      "outputs": []
    },
    {
      "cell_type": "markdown",
      "source": [
        "## Step3. visualizing the datasets"
      ],
      "metadata": {
        "id": "OiOLzmr6T6Y3"
      }
    },
    {
      "cell_type": "markdown",
      "source": [
        "### Plot training data"
      ],
      "metadata": {
        "id": "6mW9O7PB6_db"
      }
    },
    {
      "cell_type": "markdown",
      "source": [
        "The code `plt.scatter(X_train['x1'], X_train['x2'], c=y_train)` creates a scatter plot where the x-axis represents the values from the 'x1' feature of the training dataset (X_train), the y-axis represents the values from the 'x2' feature of the training dataset, and the color of each point is determined by the corresponding labels from the training target (y_train).\n",
        "\n",
        "This scatter plot can be helpful for visualizing the relationship between the 'x1' and 'x2' features and how they relate to the labels. It can provide insights into patterns, clusters, or separability in the data."
      ],
      "metadata": {
        "id": "gGIG09g-njCj"
      }
    },
    {
      "cell_type": "code",
      "source": [
        "# Plot training data\n",
        "plt.figure()\n",
        "scatter = plt.scatter(X_train['x1'], X_train['x2'], c=y_train)\n",
        "plt.xlabel('x1')\n",
        "plt.ylabel('x2')\n",
        "plt.title('Training Data')\n",
        "# Add legend based on 'c' input\n",
        "plt.legend(*scatter.legend_elements(), title='Labels', bbox_to_anchor=(1.2, 1.0))\n",
        "plt.grid()\n",
        "plt.show()"
      ],
      "metadata": {
        "id": "bDsJPEieFpQi",
        "colab": {
          "base_uri": "https://localhost:8080/",
          "height": 0
        },
        "outputId": "ce27e969-541a-4b2f-b24f-0d54b72c67c7"
      },
      "execution_count": 10,
      "outputs": [
        {
          "output_type": "display_data",
          "data": {
            "text/plain": [
              "<Figure size 640x480 with 1 Axes>"
            ],
            "image/png": "[encoded data removed]"
          },
          "metadata": {}
        }
      ]
    },
    {
      "cell_type": "markdown",
      "source": [
        "Which model should we select? Of which order: 1, 2, 3, ...? Based on the scatter plot, the data appears to be separable by a linear line. This suggests that a model of dimensionality 1 (d=1) would be suitable for this dataset for now."
      ],
      "metadata": {
        "id": "MXL3vRp4sMCS"
      }
    },
    {
      "cell_type": "markdown",
      "source": [
        "## Step4. Constructing a Logistic Regression model using sklearn\n",
        "Based on what we observed from the scatter plot, we will define a linear regression model of the 1st order."
      ],
      "metadata": {
        "id": "x3gSKlYg7Chd"
      }
    },
    {
      "cell_type": "markdown",
      "source": [
        "### Train"
      ],
      "metadata": {
        "id": "xFAeQnBS7JLV"
      }
    },
    {
      "cell_type": "markdown",
      "source": [
        "Define an instance of the model called logisticRegr."
      ],
      "metadata": {
        "id": "ZXVlvd0BXruE"
      }
    },
    {
      "cell_type": "code",
      "source": [
        "from sklearn.linear_model import LogisticRegression\n",
        "\n",
        "# all parameters not specified are set to their defaults\n",
        "logisticRegr = LogisticRegression()"
      ],
      "metadata": {
        "id": "kr3kOaEwDFd8"
      },
      "execution_count": 11,
      "outputs": []
    },
    {
      "cell_type": "markdown",
      "source": [
        "This is the training process for logistic regression using scikit-learn.\n",
        "\n",
        "`X_train` contains two columns, `x1` and `x2`, which serve as the input features for the model. Meanwhile, `y_train` provides the true labels against which the model's predictions are compared.\n"
      ],
      "metadata": {
        "id": "TtQvabveX8Fa"
      }
    },
    {
      "cell_type": "code",
      "source": [
        "logisticRegr.fit(X_train, y_train)"
      ],
      "metadata": {
        "id": "3DtzPiiRDFgS",
        "colab": {
          "base_uri": "https://localhost:8080/",
          "height": 74
        },
        "outputId": "a1980783-2dff-4906-a979-fcf92ee070bf"
      },
      "execution_count": 12,
      "outputs": [
        {
          "output_type": "execute_result",
          "data": {
            "text/plain": [
              "LogisticRegression()"
            ],
            "text/html": [
              "<style>#sk-container-id-1 {color: black;background-color: white;}#sk-container-id-1 pre{padding: 0;}#sk-container-id-1 div.sk-toggleable {background-color: white;}#sk-container-id-1 label.sk-toggleable__label {cursor: pointer;display: block;width: 100%;margin-bottom: 0;padding: 0.3em;box-sizing: border-box;text-align: center;}#sk-container-id-1 label.sk-toggleable__label-arrow:before {content: \"▸\";float: left;margin-right: 0.25em;color: #696969;}#sk-container-id-1 label.sk-toggleable__label-arrow:hover:before {color: black;}#sk-container-id-1 div.sk-estimator:hover label.sk-toggleable__label-arrow:before {color: black;}#sk-container-id-1 div.sk-toggleable__content {max-height: 0;max-width: 0;overflow: hidden;text-align: left;background-color: #f0f8ff;}#sk-container-id-1 div.sk-toggleable__content pre {margin: 0.2em;color: black;border-radius: 0.25em;background-color: #f0f8ff;}#sk-container-id-1 input.sk-toggleable__control:checked~div.sk-toggleable__content {max-height: 200px;max-width: 100%;overflow: auto;}#sk-container-id-1 input.sk-toggleable__control:checked~label.sk-toggleable__label-arrow:before {content: \"▾\";}#sk-container-id-1 div.sk-estimator input.sk-toggleable__control:checked~label.sk-toggleable__label {background-color: #d4ebff;}#sk-container-id-1 div.sk-label input.sk-toggleable__control:checked~label.sk-toggleable__label {background-color: #d4ebff;}#sk-container-id-1 input.sk-hidden--visually {border: 0;clip: rect(1px 1px 1px 1px);clip: rect(1px, 1px, 1px, 1px);height: 1px;margin: -1px;overflow: hidden;padding: 0;position: absolute;width: 1px;}#sk-container-id-1 div.sk-estimator {font-family: monospace;background-color: #f0f8ff;border: 1px dotted black;border-radius: 0.25em;box-sizing: border-box;margin-bottom: 0.5em;}#sk-container-id-1 div.sk-estimator:hover {background-color: #d4ebff;}#sk-container-id-1 div.sk-parallel-item::after {content: \"\";width: 100%;border-bottom: 1px solid gray;flex-grow: 1;}#sk-container-id-1 div.sk-label:hover label.sk-toggleable__label {background-color: #d4ebff;}#sk-container-id-1 div.sk-serial::before {content: \"\";position: absolute;border-left: 1px solid gray;box-sizing: border-box;top: 0;bottom: 0;left: 50%;z-index: 0;}#sk-container-id-1 div.sk-serial {display: flex;flex-direction: column;align-items: center;background-color: white;padding-right: 0.2em;padding-left: 0.2em;position: relative;}#sk-container-id-1 div.sk-item {position: relative;z-index: 1;}#sk-container-id-1 div.sk-parallel {display: flex;align-items: stretch;justify-content: center;background-color: white;position: relative;}#sk-container-id-1 div.sk-item::before, #sk-container-id-1 div.sk-parallel-item::before {content: \"\";position: absolute;border-left: 1px solid gray;box-sizing: border-box;top: 0;bottom: 0;left: 50%;z-index: -1;}#sk-container-id-1 div.sk-parallel-item {display: flex;flex-direction: column;z-index: 1;position: relative;background-color: white;}#sk-container-id-1 div.sk-parallel-item:first-child::after {align-self: flex-end;width: 50%;}#sk-container-id-1 div.sk-parallel-item:last-child::after {align-self: flex-start;width: 50%;}#sk-container-id-1 div.sk-parallel-item:only-child::after {width: 0;}#sk-container-id-1 div.sk-dashed-wrapped {border: 1px dashed gray;margin: 0 0.4em 0.5em 0.4em;box-sizing: border-box;padding-bottom: 0.4em;background-color: white;}#sk-container-id-1 div.sk-label label {font-family: monospace;font-weight: bold;display: inline-block;line-height: 1.2em;}#sk-container-id-1 div.sk-label-container {text-align: center;}#sk-container-id-1 div.sk-container {/* jupyter's `normalize.less` sets `[hidden] { display: none; }` but bootstrap.min.css set `[hidden] { display: none !important; }` so we also need the `!important` here to be able to override the default hidden behavior on the sphinx rendered scikit-learn.org. See: https://github.com/scikit-learn/scikit-learn/issues/21755 */display: inline-block !important;position: relative;}#sk-container-id-1 div.sk-text-repr-fallback {display: none;}</style><div id=\"sk-container-id-1\" class=\"sk-top-container\"><div class=\"sk-text-repr-fallback\"><pre>LogisticRegression()</pre><b>In a Jupyter environment, please rerun this cell to show the HTML representation or trust the notebook. <br />On GitHub, the HTML representation is unable to render, please try loading this page with nbviewer.org.</b></div><div class=\"sk-container\" hidden><div class=\"sk-item\"><div class=\"sk-estimator sk-toggleable\"><input class=\"sk-toggleable__control sk-hidden--visually\" id=\"sk-estimator-id-1\" type=\"checkbox\" checked><label for=\"sk-estimator-id-1\" class=\"sk-toggleable__label sk-toggleable__label-arrow\">LogisticRegression</label><div class=\"sk-toggleable__content\"><pre>LogisticRegression()</pre></div></div></div></div></div>"
            ]
          },
          "metadata": {},
          "execution_count": 12
        }
      ]
    },
    {
      "cell_type": "markdown",
      "source": [
        "The fit method carries out the gradient descent procedure to determine the optimal weights for the model.\n"
      ],
      "metadata": {
        "id": "mLXtux_EZlKd"
      }
    },
    {
      "cell_type": "markdown",
      "source": [
        "## Step5. Sketching the decision boundary"
      ],
      "metadata": {
        "id": "EakUl_5bbAy7"
      }
    },
    {
      "cell_type": "markdown",
      "source": [
        "### retrieve the model parameters"
      ],
      "metadata": {
        "id": "UgvCc9sdbbaS"
      }
    },
    {
      "cell_type": "markdown",
      "source": [
        "\n",
        "After training the model with model_instance.fit, you can retrieve the model The parameters are as follows:\n",
        "* `b` - This represents θ₀, as we know it.\n",
        "* `w1` and `w2` - These represent θ₁ and θ₂, respectively.\n",
        "\n",
        "\n",
        "**explenation:**\n",
        "\n",
        "The variable `b` represents the intercept term, often denoted as θ₀ (theta-zero) in the equation of logistic regression. It captures the offset or bias of the logistic regression model.\n",
        "\n",
        "On the other hand, `w1` and `w2` correspond to the coefficients of the features 'x1' and 'x2' in the logistic regression model, respectively. These coefficients are typically represented as θ₁ (theta-one) and θ₂ (theta-two) in the logistic regression equation.\n",
        "\n",
        "Therefore, by assigning `b` to θ₀, `w1` to θ₁, and `w2` to θ₂, we can relate these variables to the parameters of the logistic regression equation."
      ],
      "metadata": {
        "id": "P6zuO4Z_bJQF"
      }
    },
    {
      "cell_type": "code",
      "source": [
        "# Retrieve the model parameters.\n",
        "b = logisticRegr.intercept_[0]\n",
        "w1, w2 = logisticRegr.coef_.T"
      ],
      "metadata": {
        "id": "r2ZQAEPXE3tz"
      },
      "execution_count": 13,
      "outputs": []
    },
    {
      "cell_type": "code",
      "source": [
        "print(b)\n",
        "print(w1)\n",
        "print(w2)"
      ],
      "metadata": {
        "id": "9Nh4RyoV2NNW",
        "colab": {
          "base_uri": "https://localhost:8080/"
        },
        "outputId": "fc12a2e4-c74c-407a-db51-d2a99f58e0e3"
      },
      "execution_count": 14,
      "outputs": [
        {
          "output_type": "stream",
          "name": "stdout",
          "text": [
            "-29.383019525075056\n",
            "[0.24912332]\n",
            "[0.21982524]\n"
          ]
        }
      ]
    },
    {
      "cell_type": "markdown",
      "source": [
        "Now, we want to draw the decision boundary on the scatter plot we obtained for the training set.\n",
        "\n",
        "The scatter plot for the training set, as previously obtained, is as follows:"
      ],
      "metadata": {
        "id": "0HZGJxkgb-1f"
      }
    },
    {
      "cell_type": "code",
      "source": [
        "# Plot training data\n",
        "plt.figure()\n",
        "scatter = plt.scatter(X_train['x1'], X_train['x2'], c=y_train)\n",
        "plt.xlabel('x1')\n",
        "plt.ylabel('x2')\n",
        "plt.title('Training Data')\n",
        "# Add legend based on 'c' input\n",
        "plt.legend(*scatter.legend_elements(), title='Labels', bbox_to_anchor=(1.2, 1.0))\n",
        "plt.grid()\n",
        "plt.show()"
      ],
      "metadata": {
        "colab": {
          "base_uri": "https://localhost:8080/",
          "height": 472
        },
        "id": "zCxQHJQCc63q",
        "outputId": "a705eede-eb40-4af9-90cb-06d8992250b4"
      },
      "execution_count": 15,
      "outputs": [
        {
          "output_type": "display_data",
          "data": {
            "text/plain": [
              "<Figure size 640x480 with 1 Axes>"
            ],
            "image/png": "[encoded data removed]"
          },
          "metadata": {}
        }
      ]
    },
    {
      "cell_type": "markdown",
      "source": [
        "The hypothesis function of logistic regression models the probability of a binary outcome based on a linear combination of the input features. The hypothesis is typically represented using the sigmoid or logistic function.\n",
        "\n",
        "In mathematical notation, the hypothesis function hθ(x) for logistic regression can be defined as:\n",
        "\n",
        "hθ(x) = 1 / (1 + exp(-θ^T * x))\n",
        "\n",
        "where:\n",
        "\n",
        "hθ(x) is the predicted probability of the positive class (y = 1) given the input features x.\n",
        "θ is the vector of coefficients (parameters) of the logistic regression model.\n",
        "θ^T denotes the transpose of θ.\n",
        "x is the vector of input features.\n",
        "The sigmoid function 1 / (1 + exp(-z)) transforms the linear combination θ^T * x into a value between 0 and 1, representing the probability of the positive class. If hθ(x) is greater than or equal to 0.5, we predict the positive class (y = 1); otherwise, we predict the negative class (y = 0).\n",
        "\n",
        "The goal of logistic regression is to find the optimal values for θ that maximize the likelihood of the observed data, allowing the model to make accurate predictions on new, unseen examples."
      ],
      "metadata": {
        "id": "Fu1pJ-E7_G5z"
      }
    },
    {
      "cell_type": "markdown",
      "source": [
        "\n",
        "```\n",
        "x = np.arange(25,100)\n",
        "```\n",
        "\n",
        "Based on the scatter plot of the training set, we observe that the range of values for the input feature x spans from 25 to 100. To represent this range in code, we can use np.arange(25, 100).\n",
        "\n",
        "set. therfore we set it as follow np.arange(25,100).\n",
        "\n"
      ],
      "metadata": {
        "id": "Xm-Ab7Ab9H0x"
      }
    },
    {
      "cell_type": "markdown",
      "source": [
        "\n",
        "```\n",
        "y = (-b-w1*x)/w2\n",
        "```\n",
        "\n",
        "In our problem with two inputs, we can represent the hypothesis function of logistic regression as:\n",
        "\n",
        "θ = θ₀ + θ₁ * x₁ + θ₂ * x₂.\n",
        "\n",
        "In this equation:\n",
        "- b represents θ₀,\n",
        "- θ₁ represents w₁,\n",
        "- θ₂ represents w₂.\n",
        "\n",
        "To determine the decision boundary where hθ(x) = 0.5, we set the equation θ = 0.\n",
        "\n",
        "Thus, we have:\n",
        "b + w₁ * x₁ + w₂ * x₂ = 0.\n",
        "\n",
        "Simplifying further, we isolate x₂ on one side:\n",
        "x₂ = -(b + w₁ * x₁) / w₂.\n",
        "\n",
        "This equation provides the relationship between the input features x₁, x₂, and the decision boundary in terms of the model coefficients (b, w₁, w₂). By plugging in specific values for b, w₁, and w₂, we can compute the corresponding values of x₂ that lie on the decision boundary."
      ],
      "metadata": {
        "id": "niApwq0L_Moj"
      }
    },
    {
      "cell_type": "markdown",
      "source": [
        "### plot the training set with the model and corrosponding DB"
      ],
      "metadata": {
        "id": "1l6CRu7WLI9L"
      }
    },
    {
      "cell_type": "code",
      "source": [
        "# calculate DB values\n",
        "x = np.arange(25,100)\n",
        "y = (-b-w1*x)/w2\n",
        "\n",
        "# create figure\n",
        "plt.figure()\n",
        "\n",
        "# plot the data\n",
        "scatter = plt.scatter(X_train['x1'],X_train['x2'],c = y_train)\n",
        "plt.xlabel('x1')\n",
        "plt.ylabel('x2')\n",
        "\n",
        "# plot the decesion boundry\n",
        "plt.plot(x,y)\n",
        "\n",
        "plt.title('Training Data & Decision Boundary')\n",
        "# Add legend based on 'c' input\n",
        "plt.legend(*scatter.legend_elements(), title='Labels', bbox_to_anchor=(1.2, 1.0))\n",
        "# add grid and legend\n",
        "plt.grid()"
      ],
      "metadata": {
        "id": "8_WFbmUh2TRN",
        "colab": {
          "base_uri": "https://localhost:8080/",
          "height": 472
        },
        "outputId": "bd20ddd4-108d-4dda-ac47-21d956628565"
      },
      "execution_count": 16,
      "outputs": [
        {
          "output_type": "display_data",
          "data": {
            "text/plain": [
              "<Figure size 640x480 with 1 Axes>"
            ],
            "image/png": "[encoded data removed]"
          },
          "metadata": {}
        }
      ]
    },
    {
      "cell_type": "markdown",
      "source": [
        "We can visualize a decision boundary only when we have a maximum of two features (x1, x2); otherwise, visualization isn't feasible.\n",
        "\n",
        "From the scatter plot, we can observe a seemingly appropriate decision boundary. Why does it appear suitable? If our decision boundary for the training set didn't offer a good separation between the labels, we might need additional iterations. However, overfitting won't be evident from this decision boundary since it's based on the training set; overfitting becomes apparent when evaluating against the test set."
      ],
      "metadata": {
        "id": "2eNlrghgd4ZC"
      }
    },
    {
      "cell_type": "markdown",
      "source": [
        "## Step6. Assessing model performance"
      ],
      "metadata": {
        "id": "q2rvmoFMiwrA"
      }
    },
    {
      "cell_type": "markdown",
      "source": [
        "### Train Set"
      ],
      "metadata": {
        "id": "pkuTXVsxB5_d"
      }
    },
    {
      "cell_type": "markdown",
      "source": [
        "Import the necessary libraries for model evaluation"
      ],
      "metadata": {
        "id": "lVrVBEKyiwko"
      }
    },
    {
      "cell_type": "code",
      "source": [
        "from sklearn.metrics import precision_score,recall_score,f1_score,confusion_matrix"
      ],
      "metadata": {
        "id": "2Sk797pjAWwz"
      },
      "execution_count": 17,
      "outputs": []
    },
    {
      "cell_type": "markdown",
      "source": [
        "predict train set samples"
      ],
      "metadata": {
        "id": "FArG-S0JBB46"
      }
    },
    {
      "cell_type": "code",
      "source": [
        "# predict train data\n",
        "y_pred_train = logisticRegr.predict(X_train)"
      ],
      "metadata": {
        "id": "laL4ku2S4Nli"
      },
      "execution_count": 20,
      "outputs": []
    },
    {
      "cell_type": "markdown",
      "source": [
        "confusion matrix using sklearn and pandas"
      ],
      "metadata": {
        "id": "Ks6-EILgBQjt"
      }
    },
    {
      "cell_type": "code",
      "source": [
        "# create CM using sklearn and pandas\n",
        "cm = confusion_matrix(y_train, y_pred_train)\n",
        "\n",
        "# construct results in df\n",
        "cm_df = pd.DataFrame(cm)\n",
        "print(cm_df.head())"
      ],
      "metadata": {
        "colab": {
          "base_uri": "https://localhost:8080/"
        },
        "id": "1riTHsiBBVzY",
        "outputId": "b5c0ff4a-b3ca-43f7-8f51-e47fc70fec29"
      },
      "execution_count": 21,
      "outputs": [
        {
          "output_type": "stream",
          "name": "stdout",
          "text": [
            "    0   1\n",
            "0  27   4\n",
            "1   3  41\n"
          ]
        }
      ]
    },
    {
      "cell_type": "markdown",
      "source": [
        "calculate precision recall and f1 score"
      ],
      "metadata": {
        "id": "2gvo3uG8BFEd"
      }
    },
    {
      "cell_type": "code",
      "source": [
        "print(\"\\t||| training |||\")\n",
        "print(\"--------------------------------\")\n",
        "print(\"precision:\")\n",
        "print(precision_score(y_train, y_pred_train, average=None)) #average=None; calculated separately for each class\n",
        "print(\"--------------------------------\")\n",
        "print(\"recall:\")\n",
        "print(recall_score(y_train, y_pred_train, average=None))\n",
        "print(\"--------------------------------\")\n",
        "print(\"f1 score:\")\n",
        "print(f1_score(y_train, y_pred_train, average=None))\n",
        "print(\"--------------------------------\")"
      ],
      "metadata": {
        "colab": {
          "base_uri": "https://localhost:8080/"
        },
        "id": "crVTrTG5BGsG",
        "outputId": "35160eee-5c20-4934-d2a0-9ec0c4bf46df"
      },
      "execution_count": 22,
      "outputs": [
        {
          "output_type": "stream",
          "name": "stdout",
          "text": [
            "\t||| training |||\n",
            "--------------------------------\n",
            "precision:\n",
            "[0.9        0.91111111]\n",
            "--------------------------------\n",
            "recall:\n",
            "[0.87096774 0.93181818]\n",
            "--------------------------------\n",
            "f1 score:\n",
            "[0.8852459  0.92134831]\n",
            "--------------------------------\n"
          ]
        }
      ]
    },
    {
      "cell_type": "markdown",
      "source": [
        "\n",
        "The **average=None** parameter in the recall_score() function is used to specify that the recall score should be calculated separately for each class in a multi-class classification problem."
      ],
      "metadata": {
        "id": "sdWC2LxiGbFN"
      }
    },
    {
      "cell_type": "markdown",
      "source": [
        "Once we have obtained the F1 score, precision, and recall estimates for the training set, our next step is to calculate these metrics for the test set. By comparing the estimation values between the training and test sets, we can determine if we are experiencing bias, underfitting, or overfitting.\n",
        "\n",
        "In this case, since we obtained a precision score of 0.9 (or 90%) for the first class ('0') and a precision score of 0.91111111 (or approximately 91.11%) for the second class ('1') during training, it suggests that bias is unlikely. However, we should be cautious about the potential for overfitting, as the model may be too specialized to the training data and could struggle to generalize to new, unseen data in the test set."
      ],
      "metadata": {
        "id": "lGvEJ84LHTKJ"
      }
    },
    {
      "cell_type": "markdown",
      "source": [
        "### Test Set"
      ],
      "metadata": {
        "id": "IsUoslAaCAoY"
      }
    },
    {
      "cell_type": "markdown",
      "source": [
        "plot the test set with the model and corrosponding decision boundary"
      ],
      "metadata": {
        "id": "OmJsy3QhCUbo"
      }
    },
    {
      "cell_type": "code",
      "source": [
        "# calculate DB values\n",
        "x = np.arange(25,100)\n",
        "y = (-b-w1*x)/w2\n",
        "\n",
        "# create figure\n",
        "plt.figure()\n",
        "\n",
        "# plot the daata\n",
        "scatter = plt.scatter(X_test['x1'],X_test['x2'],c = y_test)\n",
        "plt.xlabel('x1')\n",
        "plt.xlabel('x2')\n",
        "\n",
        "# plot the decesion boundry\n",
        "plt.plot(x,y)\n",
        "\n",
        "plt.title('Test Data & Decision Boundary')\n",
        "# Add legend based on 'c' input\n",
        "plt.legend(*scatter.legend_elements(), title='Labels', bbox_to_anchor=(1.2, 1.0))\n",
        "# add grid and legend\n",
        "plt.grid()"
      ],
      "metadata": {
        "id": "EM3DKRvs6ZIf",
        "colab": {
          "base_uri": "https://localhost:8080/",
          "height": 472
        },
        "outputId": "45c79ed6-61e7-493b-8d03-f36ab3dad8dc"
      },
      "execution_count": 23,
      "outputs": [
        {
          "output_type": "display_data",
          "data": {
            "text/plain": [
              "<Figure size 640x480 with 1 Axes>"
            ],
            "image/png": "[encoded data removed]"
          },
          "metadata": {}
        }
      ]
    },
    {
      "cell_type": "markdown",
      "source": [
        "The provided code generates a plot that displays the test set data points, with different colors assigned based on their class labels. Additionally, it plots the decision boundary line determined by the model. This visualization helps assess how effectively the model separates the classes in the test set.\n",
        "\n",
        "By examining the plot, we can observe certain data points that the model misclassified. Specifically, there are yellow dots located below the decision boundary line and a purple dot located above the line. However, it is important to note that these misclassified points are new data points not seen during training. Despite these misclassifications, the overall predictions appear accurate, as the majority of the data points are correctly classified and align well with the decision boundary.\n",
        "\n",
        "In summary, the plot allows for a visual understanding of the model's performance on the test set. While some misclassifications are present for unseen data, the model's predictions appear to be generally reliable and effective in separating the classes."
      ],
      "metadata": {
        "id": "UvbZQy8tcido"
      }
    },
    {
      "cell_type": "markdown",
      "source": [
        "predict test set samples"
      ],
      "metadata": {
        "id": "GoDVOdrJCI29"
      }
    },
    {
      "cell_type": "code",
      "source": [
        "# predict test data\n",
        "y_pred_test = logisticRegr.predict(X_test)"
      ],
      "metadata": {
        "id": "2qyrvd6WDvqn"
      },
      "execution_count": 24,
      "outputs": []
    },
    {
      "cell_type": "markdown",
      "source": [
        "confusion matrix using sklearn and pandas"
      ],
      "metadata": {
        "id": "NUKoawg-Dyx6"
      }
    },
    {
      "cell_type": "code",
      "source": [
        "# create CM using sklearn and pandas\n",
        "cm = confusion_matrix(y_test, y_pred_test)\n",
        "\n",
        "# construct results in df\n",
        "cm_df = pd.DataFrame(cm)\n",
        "print(cm_df.head())"
      ],
      "metadata": {
        "colab": {
          "base_uri": "https://localhost:8080/"
        },
        "id": "dADEZn3QDzo5",
        "outputId": "efed759e-bd62-47c6-ecf5-1057acdecaef"
      },
      "execution_count": 26,
      "outputs": [
        {
          "output_type": "stream",
          "name": "stdout",
          "text": [
            "   0   1\n",
            "0  8   1\n",
            "1  3  13\n"
          ]
        }
      ]
    },
    {
      "cell_type": "markdown",
      "source": [
        "calculate precision recall and f1 score"
      ],
      "metadata": {
        "id": "w6aC4WtAD_XA"
      }
    },
    {
      "cell_type": "code",
      "source": [
        "print(\"\\t||| testing |||\")\n",
        "print(\"--------------------------------\")\n",
        "print(\"precision:\")\n",
        "print(precision_score(y_test, y_pred_test, average=None))\n",
        "print(\"--------------------------------\")\n",
        "print(\"recall:\")\n",
        "print(recall_score(y_test, y_pred_test, average=None))\n",
        "print(\"--------------------------------\")\n",
        "print(\"f1 score:\")\n",
        "print(f1_score(y_test, y_pred_test, average=None))\n",
        "print(\"--------------------------------\")\n"
      ],
      "metadata": {
        "id": "JHHzaXOr36F6",
        "colab": {
          "base_uri": "https://localhost:8080/"
        },
        "outputId": "7b879404-0213-4606-8c18-f3894ed1a907"
      },
      "execution_count": 27,
      "outputs": [
        {
          "output_type": "stream",
          "name": "stdout",
          "text": [
            "\t||| testing |||\n",
            "--------------------------------\n",
            "precision:\n",
            "[0.72727273 0.92857143]\n",
            "--------------------------------\n",
            "recall:\n",
            "[0.88888889 0.8125    ]\n",
            "--------------------------------\n",
            "f1 score:\n",
            "[0.8        0.86666667]\n",
            "--------------------------------\n"
          ]
        }
      ]
    },
    {
      "cell_type": "markdown",
      "source": [
        "**In class 0**, we achieved a **precision of 90%** in the **training** set. However, in the **test** set, the precision **dropped to 72%**, indicating a performance decline of 18%. This suggests a **slight overfitting issue**, as the model may have become too specialized to the training data. On the other hand, in **class 1**, both the **training and test** sets had a precision of 92%, indicating **consistent performance**.\n",
        "\n",
        "The F1 score evaluates the model's predictions across all classes in a classification task. It is commonly used to assess the **balance between precision and recall.** For class 0, the **training** set had an F1 score of **88%**, while the **test** set had an F1 score of 80% (an 8% decline). For **class 1**, the **training** and test sets had F1 scores of 92% and 86% respectively (a 8% decline). Overall, the logistic regression model performs reasonably well, although there is a **slight decrease in performance**.\n",
        "\n",
        "Considering these results, we have two options: either we can choose to continue using the logistic regression model of the first order (d=1) or explore the possibility of building a more sophisticated model, such as a second-order model."
      ],
      "metadata": {
        "id": "uFujTGZIgBSp"
      }
    },
    {
      "cell_type": "markdown",
      "source": [
        "# second-Order Logistic Regression Model"
      ],
      "metadata": {
        "id": "hQmBXQxk7lFH"
      }
    },
    {
      "cell_type": "markdown",
      "source": [
        "## Creating a Second-Order Data"
      ],
      "metadata": {
        "id": "6-dqIfZ9IFbX"
      }
    },
    {
      "cell_type": "markdown",
      "source": [
        "Define new columns with 'new' data for a second-order Logistic Regression Model."
      ],
      "metadata": {
        "id": "eeyhP4FdIuW-"
      }
    },
    {
      "cell_type": "code",
      "source": [
        "df['x1_2'] = np.power(df['x1'],2)\n",
        "df['x2_2'] = np.power(df['x2'],2)"
      ],
      "metadata": {
        "id": "W-rID7YdmE8Z"
      },
      "execution_count": 28,
      "outputs": []
    },
    {
      "cell_type": "markdown",
      "source": [
        "These lines create two new columns in the DataFrame df named 'x1_2' and 'x2_2'. These columns contain the squared values of the original features 'x1' and 'x2', respectively. The np.power() function from the NumPy library is used to perform the element-wise squaring operation."
      ],
      "metadata": {
        "id": "N2vIFTI7lrSc"
      }
    },
    {
      "cell_type": "markdown",
      "source": [
        "## Step2. Partitioning the dataset into training and testing subsets"
      ],
      "metadata": {
        "id": "vI3HKpcTL0N-"
      }
    },
    {
      "cell_type": "markdown",
      "source": [
        "Reorganizing the DataFrame"
      ],
      "metadata": {
        "id": "FLmf9S1AIl7p"
      }
    },
    {
      "cell_type": "code",
      "source": [
        "# df[['x1', 'x2', 'x1_2', 'x2_2', 'label']].head()\n",
        "# for it to be permanent\n",
        "df = df.reindex(columns=['x1', 'x2', 'x1_2', 'x2_2', 'label'])\n",
        "df.head()"
      ],
      "metadata": {
        "colab": {
          "base_uri": "https://localhost:8080/",
          "height": 206
        },
        "id": "N0ftJitxK0dg",
        "outputId": "307e6be0-a615-4ecf-c394-202b6ac52ae9"
      },
      "execution_count": 43,
      "outputs": [
        {
          "output_type": "execute_result",
          "data": {
            "text/plain": [
              "          x1         x2         x1_2         x2_2  label\n",
              "0  34.623660  78.024693  1198.797806  6087.852689      0\n",
              "1  30.286711  43.894998   917.284849  1926.770808      0\n",
              "2  35.847409  72.902198  1285.036716  5314.730477      0\n",
              "3  60.182599  86.308552  3621.945269  7449.166165      1\n",
              "4  79.032736  75.344376  6246.173368  5676.775061      1"
            ],
            "text/html": [
              "\n",
              "  <div id=\"df-ffadeaf8-a9bd-4fb4-9d58-1b0487f7aa58\" class=\"colab-df-container\">\n",
              "    <div>\n",
              "<style scoped>\n",
              "    .dataframe tbody tr th:only-of-type {\n",
              "        vertical-align: middle;\n",
              "    }\n",
              "\n",
              "    .dataframe tbody tr th {\n",
              "        vertical-align: top;\n",
              "    }\n",
              "\n",
              "    .dataframe thead th {\n",
              "        text-align: right;\n",
              "    }\n",
              "</style>\n",
              "<table border=\"1\" class=\"dataframe\">\n",
              "  <thead>\n",
              "    <tr style=\"text-align: right;\">\n",
              "      <th></th>\n",
              "      <th>x1</th>\n",
              "      <th>x2</th>\n",
              "      <th>x1_2</th>\n",
              "      <th>x2_2</th>\n",
              "      <th>label</th>\n",
              "    </tr>\n",
              "  </thead>\n",
              "  <tbody>\n",
              "    <tr>\n",
              "      <th>0</th>\n",
              "      <td>34.623660</td>\n",
              "      <td>78.024693</td>\n",
              "      <td>1198.797806</td>\n",
              "      <td>6087.852689</td>\n",
              "      <td>0</td>\n",
              "    </tr>\n",
              "    <tr>\n",
              "      <th>1</th>\n",
              "      <td>30.286711</td>\n",
              "      <td>43.894998</td>\n",
              "      <td>917.284849</td>\n",
              "      <td>1926.770808</td>\n",
              "      <td>0</td>\n",
              "    </tr>\n",
              "    <tr>\n",
              "      <th>2</th>\n",
              "      <td>35.847409</td>\n",
              "      <td>72.902198</td>\n",
              "      <td>1285.036716</td>\n",
              "      <td>5314.730477</td>\n",
              "      <td>0</td>\n",
              "    </tr>\n",
              "    <tr>\n",
              "      <th>3</th>\n",
              "      <td>60.182599</td>\n",
              "      <td>86.308552</td>\n",
              "      <td>3621.945269</td>\n",
              "      <td>7449.166165</td>\n",
              "      <td>1</td>\n",
              "    </tr>\n",
              "    <tr>\n",
              "      <th>4</th>\n",
              "      <td>79.032736</td>\n",
              "      <td>75.344376</td>\n",
              "      <td>6246.173368</td>\n",
              "      <td>5676.775061</td>\n",
              "      <td>1</td>\n",
              "    </tr>\n",
              "  </tbody>\n",
              "</table>\n",
              "</div>\n",
              "    <div class=\"colab-df-buttons\">\n",
              "\n",
              "  <div class=\"colab-df-container\">\n",
              "    <button class=\"colab-df-convert\" onclick=\"convertToInteractive('df-ffadeaf8-a9bd-4fb4-9d58-1b0487f7aa58')\"\n",
              "            title=\"Convert this dataframe to an interactive table.\"\n",
              "            style=\"display:none;\">\n",
              "\n",
              "  <svg xmlns=\"http://www.w3.org/2000/svg\" height=\"24px\" viewBox=\"0 -960 960 960\">\n",
              "    <path d=\"M120-120v-720h720v720H120Zm60-500h600v-160H180v160Zm220 220h160v-160H400v160Zm0 220h160v-160H400v160ZM180-400h160v-160H180v160Zm440 0h160v-160H620v160ZM180-180h160v-160H180v160Zm440 0h160v-160H620v160Z\"/>\n",
              "  </svg>\n",
              "    </button>\n",
              "\n",
              "  <style>\n",
              "    .colab-df-container {\n",
              "      display:flex;\n",
              "      gap: 12px;\n",
              "    }\n",
              "\n",
              "    .colab-df-convert {\n",
              "      background-color: #E8F0FE;\n",
              "      border: none;\n",
              "      border-radius: 50%;\n",
              "      cursor: pointer;\n",
              "      display: none;\n",
              "      fill: #1967D2;\n",
              "      height: 32px;\n",
              "      padding: 0 0 0 0;\n",
              "      width: 32px;\n",
              "    }\n",
              "\n",
              "    .colab-df-convert:hover {\n",
              "      background-color: #E2EBFA;\n",
              "      box-shadow: 0px 1px 2px rgba(60, 64, 67, 0.3), 0px 1px 3px 1px rgba(60, 64, 67, 0.15);\n",
              "      fill: #174EA6;\n",
              "    }\n",
              "\n",
              "    .colab-df-buttons div {\n",
              "      margin-bottom: 4px;\n",
              "    }\n",
              "\n",
              "    [theme=dark] .colab-df-convert {\n",
              "      background-color: #3B4455;\n",
              "      fill: #D2E3FC;\n",
              "    }\n",
              "\n",
              "    [theme=dark] .colab-df-convert:hover {\n",
              "      background-color: #434B5C;\n",
              "      box-shadow: 0px 1px 3px 1px rgba(0, 0, 0, 0.15);\n",
              "      filter: drop-shadow(0px 1px 2px rgba(0, 0, 0, 0.3));\n",
              "      fill: #FFFFFF;\n",
              "    }\n",
              "  </style>\n",
              "\n",
              "    <script>\n",
              "      const buttonEl =\n",
              "        document.querySelector('#df-ffadeaf8-a9bd-4fb4-9d58-1b0487f7aa58 button.colab-df-convert');\n",
              "      buttonEl.style.display =\n",
              "        google.colab.kernel.accessAllowed ? 'block' : 'none';\n",
              "\n",
              "      async function convertToInteractive(key) {\n",
              "        const element = document.querySelector('#df-ffadeaf8-a9bd-4fb4-9d58-1b0487f7aa58');\n",
              "        const dataTable =\n",
              "          await google.colab.kernel.invokeFunction('convertToInteractive',\n",
              "                                                    [key], {});\n",
              "        if (!dataTable) return;\n",
              "\n",
              "        const docLinkHtml = 'Like what you see? Visit the ' +\n",
              "          '<a target=\"_blank\" href=https://colab.research.google.com/notebooks/data_table.ipynb>data table notebook</a>'\n",
              "          + ' to learn more about interactive tables.';\n",
              "        element.innerHTML = '';\n",
              "        dataTable['output_type'] = 'display_data';\n",
              "        await google.colab.output.renderOutput(dataTable, element);\n",
              "        const docLink = document.createElement('div');\n",
              "        docLink.innerHTML = docLinkHtml;\n",
              "        element.appendChild(docLink);\n",
              "      }\n",
              "    </script>\n",
              "  </div>\n",
              "\n",
              "\n",
              "<div id=\"df-cbc9249d-d5ad-48d6-b436-26edc29927d1\">\n",
              "  <button class=\"colab-df-quickchart\" onclick=\"quickchart('df-cbc9249d-d5ad-48d6-b436-26edc29927d1')\"\n",
              "            title=\"Suggest charts.\"\n",
              "            style=\"display:none;\">\n",
              "\n",
              "<svg xmlns=\"http://www.w3.org/2000/svg\" height=\"24px\"viewBox=\"0 0 24 24\"\n",
              "     width=\"24px\">\n",
              "    <g>\n",
              "        <path d=\"M19 3H5c-1.1 0-2 .9-2 2v14c0 1.1.9 2 2 2h14c1.1 0 2-.9 2-2V5c0-1.1-.9-2-2-2zM9 17H7v-7h2v7zm4 0h-2V7h2v10zm4 0h-2v-4h2v4z\"/>\n",
              "    </g>\n",
              "</svg>\n",
              "  </button>\n",
              "\n",
              "<style>\n",
              "  .colab-df-quickchart {\n",
              "      --bg-color: #E8F0FE;\n",
              "      --fill-color: #1967D2;\n",
              "      --hover-bg-color: #E2EBFA;\n",
              "      --hover-fill-color: #174EA6;\n",
              "      --disabled-fill-color: #AAA;\n",
              "      --disabled-bg-color: #DDD;\n",
              "  }\n",
              "\n",
              "  [theme=dark] .colab-df-quickchart {\n",
              "      --bg-color: #3B4455;\n",
              "      --fill-color: #D2E3FC;\n",
              "      --hover-bg-color: #434B5C;\n",
              "      --hover-fill-color: #FFFFFF;\n",
              "      --disabled-bg-color: #3B4455;\n",
              "      --disabled-fill-color: #666;\n",
              "  }\n",
              "\n",
              "  .colab-df-quickchart {\n",
              "    background-color: var(--bg-color);\n",
              "    border: none;\n",
              "    border-radius: 50%;\n",
              "    cursor: pointer;\n",
              "    display: none;\n",
              "    fill: var(--fill-color);\n",
              "    height: 32px;\n",
              "    padding: 0;\n",
              "    width: 32px;\n",
              "  }\n",
              "\n",
              "  .colab-df-quickchart:hover {\n",
              "    background-color: var(--hover-bg-color);\n",
              "    box-shadow: 0 1px 2px rgba(60, 64, 67, 0.3), 0 1px 3px 1px rgba(60, 64, 67, 0.15);\n",
              "    fill: var(--button-hover-fill-color);\n",
              "  }\n",
              "\n",
              "  .colab-df-quickchart-complete:disabled,\n",
              "  .colab-df-quickchart-complete:disabled:hover {\n",
              "    background-color: var(--disabled-bg-color);\n",
              "    fill: var(--disabled-fill-color);\n",
              "    box-shadow: none;\n",
              "  }\n",
              "\n",
              "  .colab-df-spinner {\n",
              "    border: 2px solid var(--fill-color);\n",
              "    border-color: transparent;\n",
              "    border-bottom-color: var(--fill-color);\n",
              "    animation:\n",
              "      spin 1s steps(1) infinite;\n",
              "  }\n",
              "\n",
              "  @keyframes spin {\n",
              "    0% {\n",
              "      border-color: transparent;\n",
              "      border-bottom-color: var(--fill-color);\n",
              "      border-left-color: var(--fill-color);\n",
              "    }\n",
              "    20% {\n",
              "      border-color: transparent;\n",
              "      border-left-color: var(--fill-color);\n",
              "      border-top-color: var(--fill-color);\n",
              "    }\n",
              "    30% {\n",
              "      border-color: transparent;\n",
              "      border-left-color: var(--fill-color);\n",
              "      border-top-color: var(--fill-color);\n",
              "      border-right-color: var(--fill-color);\n",
              "    }\n",
              "    40% {\n",
              "      border-color: transparent;\n",
              "      border-right-color: var(--fill-color);\n",
              "      border-top-color: var(--fill-color);\n",
              "    }\n",
              "    60% {\n",
              "      border-color: transparent;\n",
              "      border-right-color: var(--fill-color);\n",
              "    }\n",
              "    80% {\n",
              "      border-color: transparent;\n",
              "      border-right-color: var(--fill-color);\n",
              "      border-bottom-color: var(--fill-color);\n",
              "    }\n",
              "    90% {\n",
              "      border-color: transparent;\n",
              "      border-bottom-color: var(--fill-color);\n",
              "    }\n",
              "  }\n",
              "</style>\n",
              "\n",
              "  <script>\n",
              "    async function quickchart(key) {\n",
              "      const quickchartButtonEl =\n",
              "        document.querySelector('#' + key + ' button');\n",
              "      quickchartButtonEl.disabled = true;  // To prevent multiple clicks.\n",
              "      quickchartButtonEl.classList.add('colab-df-spinner');\n",
              "      try {\n",
              "        const charts = await google.colab.kernel.invokeFunction(\n",
              "            'suggestCharts', [key], {});\n",
              "      } catch (error) {\n",
              "        console.error('Error during call to suggestCharts:', error);\n",
              "      }\n",
              "      quickchartButtonEl.classList.remove('colab-df-spinner');\n",
              "      quickchartButtonEl.classList.add('colab-df-quickchart-complete');\n",
              "    }\n",
              "    (() => {\n",
              "      let quickchartButtonEl =\n",
              "        document.querySelector('#df-cbc9249d-d5ad-48d6-b436-26edc29927d1 button');\n",
              "      quickchartButtonEl.style.display =\n",
              "        google.colab.kernel.accessAllowed ? 'block' : 'none';\n",
              "    })();\n",
              "  </script>\n",
              "</div>\n",
              "    </div>\n",
              "  </div>\n"
            ]
          },
          "metadata": {},
          "execution_count": 43
        }
      ]
    },
    {
      "cell_type": "markdown",
      "source": [
        "For the train-test split, we will define a separate DataFrame for the input, called X, and another separate DataFrame for the output, called y."
      ],
      "metadata": {
        "id": "W-y96lI4MV77"
      }
    },
    {
      "cell_type": "code",
      "source": [
        "X = df[['x1','x2','x1_2','x2_2']] # input DataFrame\n",
        "y = df['label'] # output DataFrame"
      ],
      "metadata": {
        "id": "bUAdJ8SgmPuG"
      },
      "execution_count": 36,
      "outputs": []
    },
    {
      "cell_type": "markdown",
      "source": [
        "These lines assign the feature matrix X and the target variable y for the model. The feature matrix X is created by selecting the columns 'x1', 'x2', 'x1_2', and 'x2_2' from the DataFrame df. These columns represent the original features 'x1' and 'x2', as well as their squared counterparts 'x1_2' and 'x2_2'. The target variable y is assigned the values from the 'label' column of the DataFrame, which represents the class labels.\n",
        "\n",
        "By including the squared terms 'x1_2' and 'x2_2' as additional features in the feature matrix X, the code enables the creation of a second-degree polynomial model. This model can capture nonlinear relationships between the original features and the target variable, potentially improving the model's predictive performance compared to a linear model."
      ],
      "metadata": {
        "id": "QnJ0RfmtmOYW"
      }
    },
    {
      "cell_type": "code",
      "source": [
        "X_train, X_test, y_train, y_test = train_test_split(X, y, test_size=0.25, random_state=42)"
      ],
      "metadata": {
        "id": "8RnmAd1XDDe6"
      },
      "execution_count": 46,
      "outputs": []
    },
    {
      "cell_type": "markdown",
      "source": [
        "\n",
        "\n",
        "`test_size=0.25`: This parameter determines the proportion of the dataset to include in the test split. In this case, 25% of the dataset is used for testing, and the remaining 75% is used for training.\n",
        "\n",
        "`random_state=42`: This parameter is used for initializing the internal random number generator, which will decide the splitting of data into train and test indices. Setting a random_state ensures that the splits you generate are reproducible. Using an int value (like 42) will guarantee the same sequence of random numbers each time the function is called, leading to deterministic splits."
      ],
      "metadata": {
        "id": "fi07cOyXL9GW"
      }
    },
    {
      "cell_type": "markdown",
      "source": [
        "## Step 3. Constructing a Logistic Regression model"
      ],
      "metadata": {
        "id": "17Ts3NVfMvWg"
      }
    },
    {
      "cell_type": "markdown",
      "source": [
        "### Train"
      ],
      "metadata": {
        "id": "JwLCOmwXM5nO"
      }
    },
    {
      "cell_type": "markdown",
      "source": [
        "Define a **new** instance of the model called logisticRegr_pow."
      ],
      "metadata": {
        "id": "fYS2TTfZNDjB"
      }
    },
    {
      "cell_type": "code",
      "source": [
        "# all parameters not specified are set to their defaults\n",
        "logisticRegr_pow = LogisticRegression()"
      ],
      "metadata": {
        "id": "0OUDQ663M-n5"
      },
      "execution_count": 45,
      "outputs": []
    },
    {
      "cell_type": "markdown",
      "source": [
        "This is the training process for logistic regression using scikit-learn.\n",
        "\n",
        "`X_train` contains 4 columns, `x1`, `x2`,`x1_2`, `x2_2` which serve as the input features for the model. Meanwhile, `y_train` provides the true labels against which the model's predictions are compared.\n"
      ],
      "metadata": {
        "id": "QChQFwOMNU3E"
      }
    },
    {
      "cell_type": "code",
      "source": [
        "logisticRegr_pow.fit(X_train, y_train)"
      ],
      "metadata": {
        "id": "ShOSSJQ2DDhg",
        "colab": {
          "base_uri": "https://localhost:8080/",
          "height": 213
        },
        "outputId": "664b8420-55b3-4f3a-a3c5-5d751f82ac8f"
      },
      "execution_count": 47,
      "outputs": [
        {
          "output_type": "stream",
          "name": "stderr",
          "text": [
            "/usr/local/lib/python3.10/dist-packages/sklearn/linear_model/_logistic.py:458: ConvergenceWarning: lbfgs failed to converge (status=1):\n",
            "STOP: TOTAL NO. of ITERATIONS REACHED LIMIT.\n",
            "\n",
            "Increase the number of iterations (max_iter) or scale the data as shown in:\n",
            "    https://scikit-learn.org/stable/modules/preprocessing.html\n",
            "Please also refer to the documentation for alternative solver options:\n",
            "    https://scikit-learn.org/stable/modules/linear_model.html#logistic-regression\n",
            "  n_iter_i = _check_optimize_result(\n"
          ]
        },
        {
          "output_type": "execute_result",
          "data": {
            "text/plain": [
              "LogisticRegression()"
            ],
            "text/html": [
              "<style>#sk-container-id-2 {color: black;background-color: white;}#sk-container-id-2 pre{padding: 0;}#sk-container-id-2 div.sk-toggleable {background-color: white;}#sk-container-id-2 label.sk-toggleable__label {cursor: pointer;display: block;width: 100%;margin-bottom: 0;padding: 0.3em;box-sizing: border-box;text-align: center;}#sk-container-id-2 label.sk-toggleable__label-arrow:before {content: \"▸\";float: left;margin-right: 0.25em;color: #696969;}#sk-container-id-2 label.sk-toggleable__label-arrow:hover:before {color: black;}#sk-container-id-2 div.sk-estimator:hover label.sk-toggleable__label-arrow:before {color: black;}#sk-container-id-2 div.sk-toggleable__content {max-height: 0;max-width: 0;overflow: hidden;text-align: left;background-color: #f0f8ff;}#sk-container-id-2 div.sk-toggleable__content pre {margin: 0.2em;color: black;border-radius: 0.25em;background-color: #f0f8ff;}#sk-container-id-2 input.sk-toggleable__control:checked~div.sk-toggleable__content {max-height: 200px;max-width: 100%;overflow: auto;}#sk-container-id-2 input.sk-toggleable__control:checked~label.sk-toggleable__label-arrow:before {content: \"▾\";}#sk-container-id-2 div.sk-estimator input.sk-toggleable__control:checked~label.sk-toggleable__label {background-color: #d4ebff;}#sk-container-id-2 div.sk-label input.sk-toggleable__control:checked~label.sk-toggleable__label {background-color: #d4ebff;}#sk-container-id-2 input.sk-hidden--visually {border: 0;clip: rect(1px 1px 1px 1px);clip: rect(1px, 1px, 1px, 1px);height: 1px;margin: -1px;overflow: hidden;padding: 0;position: absolute;width: 1px;}#sk-container-id-2 div.sk-estimator {font-family: monospace;background-color: #f0f8ff;border: 1px dotted black;border-radius: 0.25em;box-sizing: border-box;margin-bottom: 0.5em;}#sk-container-id-2 div.sk-estimator:hover {background-color: #d4ebff;}#sk-container-id-2 div.sk-parallel-item::after {content: \"\";width: 100%;border-bottom: 1px solid gray;flex-grow: 1;}#sk-container-id-2 div.sk-label:hover label.sk-toggleable__label {background-color: #d4ebff;}#sk-container-id-2 div.sk-serial::before {content: \"\";position: absolute;border-left: 1px solid gray;box-sizing: border-box;top: 0;bottom: 0;left: 50%;z-index: 0;}#sk-container-id-2 div.sk-serial {display: flex;flex-direction: column;align-items: center;background-color: white;padding-right: 0.2em;padding-left: 0.2em;position: relative;}#sk-container-id-2 div.sk-item {position: relative;z-index: 1;}#sk-container-id-2 div.sk-parallel {display: flex;align-items: stretch;justify-content: center;background-color: white;position: relative;}#sk-container-id-2 div.sk-item::before, #sk-container-id-2 div.sk-parallel-item::before {content: \"\";position: absolute;border-left: 1px solid gray;box-sizing: border-box;top: 0;bottom: 0;left: 50%;z-index: -1;}#sk-container-id-2 div.sk-parallel-item {display: flex;flex-direction: column;z-index: 1;position: relative;background-color: white;}#sk-container-id-2 div.sk-parallel-item:first-child::after {align-self: flex-end;width: 50%;}#sk-container-id-2 div.sk-parallel-item:last-child::after {align-self: flex-start;width: 50%;}#sk-container-id-2 div.sk-parallel-item:only-child::after {width: 0;}#sk-container-id-2 div.sk-dashed-wrapped {border: 1px dashed gray;margin: 0 0.4em 0.5em 0.4em;box-sizing: border-box;padding-bottom: 0.4em;background-color: white;}#sk-container-id-2 div.sk-label label {font-family: monospace;font-weight: bold;display: inline-block;line-height: 1.2em;}#sk-container-id-2 div.sk-label-container {text-align: center;}#sk-container-id-2 div.sk-container {/* jupyter's `normalize.less` sets `[hidden] { display: none; }` but bootstrap.min.css set `[hidden] { display: none !important; }` so we also need the `!important` here to be able to override the default hidden behavior on the sphinx rendered scikit-learn.org. See: https://github.com/scikit-learn/scikit-learn/issues/21755 */display: inline-block !important;position: relative;}#sk-container-id-2 div.sk-text-repr-fallback {display: none;}</style><div id=\"sk-container-id-2\" class=\"sk-top-container\"><div class=\"sk-text-repr-fallback\"><pre>LogisticRegression()</pre><b>In a Jupyter environment, please rerun this cell to show the HTML representation or trust the notebook. <br />On GitHub, the HTML representation is unable to render, please try loading this page with nbviewer.org.</b></div><div class=\"sk-container\" hidden><div class=\"sk-item\"><div class=\"sk-estimator sk-toggleable\"><input class=\"sk-toggleable__control sk-hidden--visually\" id=\"sk-estimator-id-2\" type=\"checkbox\" checked><label for=\"sk-estimator-id-2\" class=\"sk-toggleable__label sk-toggleable__label-arrow\">LogisticRegression</label><div class=\"sk-toggleable__content\"><pre>LogisticRegression()</pre></div></div></div></div></div>"
            ]
          },
          "metadata": {},
          "execution_count": 47
        }
      ]
    },
    {
      "cell_type": "markdown",
      "source": [
        "The fit method carries out the gradient descent procedure to determine the optimal weights for the model.\n"
      ],
      "metadata": {
        "id": "LDBn-i97OHRc"
      }
    },
    {
      "cell_type": "markdown",
      "source": [
        "## Step4. Assessing model performance"
      ],
      "metadata": {
        "id": "SlPLkX1sOWWp"
      }
    },
    {
      "cell_type": "code",
      "source": [
        "print(logisticRegr_pow.intercept_)\n",
        "print(logisticRegr_pow.coef_)\n",
        "\n",
        "# question to studets : how to plot DB in such complicated case?"
      ],
      "metadata": {
        "id": "dfmqorw2DDj4",
        "colab": {
          "base_uri": "https://localhost:8080/"
        },
        "outputId": "67a76147-daac-42ee-e004-d231fdea03fe"
      },
      "execution_count": 48,
      "outputs": [
        {
          "output_type": "stream",
          "name": "stdout",
          "text": [
            "[-118.92861121]\n",
            "[[ 1.57471479  1.18541571 -0.00783047 -0.00462033]]\n"
          ]
        }
      ]
    },
    {
      "cell_type": "markdown",
      "source": [
        "When we print `logisticRegr.intercept_`, we see the value of the intercept term (θ₀ = -118.92861121) in the logistic regression model. This term indicates the value of the decision boundary when all input features are set to zero. Furthermore, by printing `logisticRegr.coef_`, we observe an array of coefficients tied to each input feature in the model. These coefficients highlight the influence or significance of each feature in determining the outcome. In particular, the coefficients are: θ₁ = 1.57471479, θ₂ = 1.18541571, θ₃ = -0.00783047, and θ₄ = -0.00462033. Each coefficient corresponds to a distinct input feature and plays a role in the overall prediction.\n",
        "\n",
        "Moreover, it's evident that the coefficients θ₃ and θ₄, which are multiplied by x1_2 and x2_2 respectively, are much lower. This suggests that these features have a minimal impact on the model's prediction. This observation aligns with our initial assessment from plotting the dataset, where we anticipated the model would be close to linear."
      ],
      "metadata": {
        "id": "cknnVwscXghP"
      }
    },
    {
      "cell_type": "markdown",
      "source": [
        "### Train Set"
      ],
      "metadata": {
        "id": "p2a39yXjQxhG"
      }
    },
    {
      "cell_type": "markdown",
      "source": [
        "predict train set samples"
      ],
      "metadata": {
        "id": "90LZq2KHRHjn"
      }
    },
    {
      "cell_type": "code",
      "source": [
        "# predict train data\n",
        "y_pred_train = logisticRegr_pow.predict(X_train)"
      ],
      "metadata": {
        "id": "cw76DnISRKmr"
      },
      "execution_count": 50,
      "outputs": []
    },
    {
      "cell_type": "markdown",
      "source": [
        "confusion matrix using sklearn and pandas"
      ],
      "metadata": {
        "id": "YdX-YrYoRLfG"
      }
    },
    {
      "cell_type": "code",
      "source": [
        "cm = confusion_matrix(y_train, y_pred_train)\n",
        "\n",
        "# construct results in df\n",
        "cm_df = pd.DataFrame(cm)\n",
        "print(cm_df.head())"
      ],
      "metadata": {
        "colab": {
          "base_uri": "https://localhost:8080/"
        },
        "id": "TCatAv2SRU9Y",
        "outputId": "b521fba6-9002-4d1f-b76c-d3538deb3ebd"
      },
      "execution_count": 53,
      "outputs": [
        {
          "output_type": "stream",
          "name": "stdout",
          "text": [
            "    0   1\n",
            "0  31   0\n",
            "1   0  44\n"
          ]
        }
      ]
    },
    {
      "cell_type": "markdown",
      "source": [
        "calculate precision recall and f1 score"
      ],
      "metadata": {
        "id": "lJvaZp5hRctX"
      }
    },
    {
      "cell_type": "code",
      "source": [
        "print(\"\\t||| training |||\")\n",
        "print(\"--------------------------------\")\n",
        "print(\"precision:\")\n",
        "print(precision_score(y_train, y_pred_train, average=None))\n",
        "print(\"--------------------------------\")\n",
        "print(\"recall:\")\n",
        "print(recall_score(y_train, y_pred_train, average=None))\n",
        "print(\"--------------------------------\")\n",
        "print(\"f1 score:\")\n",
        "print(f1_score(y_train, y_pred_train, average=None))\n",
        "print(\"--------------------------------\")\n"
      ],
      "metadata": {
        "id": "TLXl5YHgDEII",
        "colab": {
          "base_uri": "https://localhost:8080/"
        },
        "outputId": "5251f3d9-d814-4624-8949-16e0dc9e1c2c"
      },
      "execution_count": 54,
      "outputs": [
        {
          "output_type": "stream",
          "name": "stdout",
          "text": [
            "\t||| training |||\n",
            "--------------------------------\n",
            "precision:\n",
            "[1. 1.]\n",
            "--------------------------------\n",
            "recall:\n",
            "[1. 1.]\n",
            "--------------------------------\n",
            "f1 score:\n",
            "[1. 1.]\n",
            "--------------------------------\n"
          ]
        }
      ]
    },
    {
      "cell_type": "markdown",
      "source": [
        "From the output for the training set, we can observe that we achieved perfect detection, meaning our model made no erroneous predictions."
      ],
      "metadata": {
        "id": "SfMnShtoRjn1"
      }
    },
    {
      "cell_type": "markdown",
      "source": [
        "### Test Set"
      ],
      "metadata": {
        "id": "o8Co-i3WSGVO"
      }
    },
    {
      "cell_type": "markdown",
      "source": [
        "predict train data"
      ],
      "metadata": {
        "id": "0px8bqDCSaFY"
      }
    },
    {
      "cell_type": "code",
      "source": [
        "y_pred_test = logisticRegr_pow.predict(X_test)"
      ],
      "metadata": {
        "id": "UcvMv4-TScnp"
      },
      "execution_count": 55,
      "outputs": []
    },
    {
      "cell_type": "markdown",
      "source": [
        "confusion matrix using sklearn and pandas"
      ],
      "metadata": {
        "id": "1cPUYqbZSfAL"
      }
    },
    {
      "cell_type": "code",
      "source": [
        "# create CM using sklearn and pandas\n",
        "cm = confusion_matrix(y_test, y_pred_test)\n",
        "\n",
        "# construct results in df\n",
        "cm_df = pd.DataFrame(cm)\n",
        "print(cm_df.head())"
      ],
      "metadata": {
        "colab": {
          "base_uri": "https://localhost:8080/"
        },
        "id": "AEYlUSSZSpQv",
        "outputId": "886de873-a30c-4be2-bc97-0f5682511eeb"
      },
      "execution_count": 56,
      "outputs": [
        {
          "output_type": "stream",
          "name": "stdout",
          "text": [
            "   0   1\n",
            "0  9   0\n",
            "1  1  15\n"
          ]
        }
      ]
    },
    {
      "cell_type": "markdown",
      "source": [
        "calculate precision recall and f1 score"
      ],
      "metadata": {
        "id": "jBG3CwffSs1x"
      }
    },
    {
      "cell_type": "code",
      "source": [
        "print(\"\\t||| training |||\")\n",
        "print(\"--------------------------------\")\n",
        "print(\"precision:\")\n",
        "print(precision_score(y_test, y_pred_test, average=None))\n",
        "print(\"--------------------------------\")\n",
        "print(\"recall:\")\n",
        "print(recall_score(y_test, y_pred_test, average=None))\n",
        "print(\"--------------------------------\")\n",
        "print(\"f1 score:\")\n",
        "print(f1_score(y_test, y_pred_test, average=None))\n",
        "print(\"--------------------------------\")\n"
      ],
      "metadata": {
        "id": "sQwpTpgIBkdW",
        "colab": {
          "base_uri": "https://localhost:8080/"
        },
        "outputId": "a5f8f622-2397-444e-dc61-b7de6797c206"
      },
      "execution_count": 57,
      "outputs": [
        {
          "output_type": "stream",
          "name": "stdout",
          "text": [
            "\t||| training |||\n",
            "--------------------------------\n",
            "precision:\n",
            "[0.9 1. ]\n",
            "--------------------------------\n",
            "recall:\n",
            "[1.     0.9375]\n",
            "--------------------------------\n",
            "f1 score:\n",
            "[0.94736842 0.96774194]\n",
            "--------------------------------\n"
          ]
        }
      ]
    },
    {
      "cell_type": "markdown",
      "source": [
        "# conclusion"
      ],
      "metadata": {
        "id": "2ZCbuvYPTw27"
      }
    },
    {
      "cell_type": "markdown",
      "source": [
        "The test results for the second-degree model are promising. When compared to the first-degree model, we see a marked improvement.\n",
        "\n",
        "For the first-degree model, the results were:\n",
        "**Training Set:**\n",
        "- Precision: [0.9, 0.91111111]\n",
        "- Recall: [0.87096774, 0.93181818]\n",
        "- F1 Score: [0.8852459, 0.92134831]\n",
        "\n",
        "**Testing Set:**\n",
        "- Precision: [0.72727273, 0.92857143]\n",
        "- Recall: [0.88888889, 0.8125]\n",
        "- F1 Score: [0.8, 0.86666667]\n",
        "\n",
        "For the second-degree model, the results improved to:\n",
        "**Training Set:**\n",
        "- Precision: [1.0, 1.0]\n",
        "- Recall: [1.0, 1.0]\n",
        "- F1 Score: [1.0, 1.0]\n",
        "\n",
        "**Testing Set:**\n",
        "- Precision: [0.9, 1.0]\n",
        "- Recall: [1.0, 0.9375]\n",
        "- F1 Score: [0.94736842, 0.96774194]\n",
        "\n",
        "Clearly, the second-degree model outperforms the first-degree one, particularly in the training phase."
      ],
      "metadata": {
        "id": "cp69a9IkY7B_"
      }
    }
  ]
}